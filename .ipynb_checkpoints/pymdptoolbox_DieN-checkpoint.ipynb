{
 "cells": [
  {
   "cell_type": "markdown",
   "metadata": {},
   "source": [
    "# Markov Decision Process using Value Iteration"
   ]
  },
  {
   "cell_type": "markdown",
   "metadata": {},
   "source": [
    "In this notebook, a simple roll dice game will be modeled as a MDP problem.  The framework of mdptoolbox will be used to \n",
    "solve the game and Value Iteration used to find the optimal policy and expected value of the initial state given."
   ]
  },
  {
   "cell_type": "markdown",
   "metadata": {},
   "source": [
    "### Imports\n",
    "We will use the mdptoolbox which is a python package for solving MDP problems as well as numpy which is a library which\n",
    " provides abstractions for \n",
    "matrix and array manipulations."
   ]
  },
  {
   "cell_type": "code",
   "execution_count": 1,
   "metadata": {
    "pycharm": {
     "name": "#%%\n"
    }
   },
   "outputs": [],
   "source": [
    "import mdptoolbox\n",
    "import numpy as np"
   ]
  },
  {
   "cell_type": "markdown",
   "metadata": {
    "pycharm": {
     "name": "#%% md\n"
    }
   },
   "source": [
    "### Simple Coin Toss Example\n",
    "\n",
    "In a simple coin toss game, you can choose to flip the coin or leave the game and take your earnings.  If you decide to\n",
    " flip you gain a reward of 1 if heads or if tails you will lose all of your earnings.\n",
    "\n",
    "Below illustrates the state and transitions for this markov decision process.\n",
    "\n",
    "![markov example](./markov.png)\n",
    "\n",
    "#### Initialization"
   ]
  },
  {
   "cell_type": "code",
   "execution_count": 2,
   "metadata": {
    "pycharm": {
     "is_executing": false,
     "name": "#%%\n"
    }
   },
   "outputs": [
    {
     "name": "stdout",
     "output_type": "stream",
     "text": [
      "[1 1]\n"
     ]
    }
   ],
   "source": [
    "# the number of sides of the dice/coin\n",
    "n_sides = 2\n",
    "\n",
    "# the number of runs to simulate\n",
    "n_runs = 2\n",
    "\n",
    "# the number of actions\n",
    "n_actions = 2\n",
    "\n",
    "# beginning and ending states\n",
    "n_initial_terminal_states = 2\n",
    "\n",
    "# the number of total states: the - n_runs is due to the fact that two of the states\n",
    "# end up in the terminal state so we can subtract them from the number of overall states\n",
    "n_states = n_runs * n_sides + n_initial_terminal_states  - n_sides\n",
    "\n",
    "# the boolean mask to indicate which states you will loose money on\n",
    "isBadSide = np.array([0, 0])\n",
    "isGoodSide = [not i for i in isBadSide]\n",
    "\n",
    "# the array which contains the values of the die\n",
    "die = np.array([1,1])\n",
    "\n",
    "# the total earnings given a die roll\n",
    "earnings = die * isGoodSide  # [1, 1]\n",
    "\n",
    "# Calculate probability for Input:\n",
    "probability_dice = 1.0 / n_sides"
   ]
  },
  {
   "cell_type": "markdown",
   "metadata": {
    "pycharm": {
     "name": "#%% md\n"
    }
   },
   "source": [
    "#### Actions and Transistions\n",
    "The transistion matrix represents all of the possible transistions between all of the states.\n",
    "\n",
    "There are two actions, thus the transition matrix will be of size 2.  For each, action there will be a probability of transistioning\n",
    "between each state.  Thus the transition matrix will be of n_actions * n_states * n_states."
   ]
  },
  {
   "cell_type": "code",
   "execution_count": null,
   "metadata": {
    "pycharm": {
     "name": "#%%\n"
    }
   },
   "outputs": [],
   "source": [
    "transition_matrix = np.zeros([n_actions, n_states, n_states])\n",
    "\n",
    "print(transition_matrix)"
   ]
  },
  {
   "cell_type": "code",
   "execution_count": 1,
   "metadata": {
    "pycharm": {
     "is_executing": false
    }
   },
   "outputs": [
    {
     "name": "stdout",
     "output_type": "stream",
     "text": [
      "WARNING: check conditions of convergence. With no discount, convergence can not be assumed.\n",
      "(0, 0, 0, 0, 0, 0, 0, 0, 0, 0)\n",
      "(2.5833333333333335, 0.5, 0.0, 0.0, 0.0, 0.0, 0.0, 0.0, 0.0, 0.0)\n"
     ]
    }
   ],
   "source": [
    "\n",
    "# the number of sides of the dice\n",
    "n_sides = 6\n",
    "\n",
    "# the number of runs to simulate\n",
    "n_runs = 2\n",
    "\n",
    "# the number of actions\n",
    "n_actions = 2\n",
    "\n",
    "# beginning and ending states\n",
    "n_initial_terminal_states = 2\n",
    "\n",
    "# the number of total states\n",
    "n_states = n_runs * n_sides + n_initial_terminal_states  # from 0 to 2N, plus quit\n",
    "\n",
    "# the boolean mask to indicate which states you will loose money on\n",
    "isBadSide = np.array([1, 1, 1, 0, 0, 0])\n",
    "isGoodSide = [not i for i in isBadSide]\n",
    "\n",
    "# the array which contains the values of the die\n",
    "die = np.arange(1, n_sides + 1)  # [1, 2, 3, 4, 5, 6]\n",
    "\n",
    "# the total earnings given a die roll\n",
    "earnings = die * isGoodSide  # [0, 0, 0, 4, 5, 6]\n",
    "\n",
    "# Calculate probability for Input:\n",
    "probability_dice = 1.0 / n_sides"
   ]
  },
  {
   "cell_type": "markdown",
   "metadata": {
    "pycharm": {
     "name": "#%% md\n"
    }
   },
   "source": [
    "There are two possible actions: 1) roll the dice or 2) do not roll the dice and take the money.\n",
    "\n",
    "The transition probability will be modeled as a 3D matrix.  The first index gives which action is taken.\n",
    "Let T be the transistion matrix, then T[0] is the first action, T[1] is the second action, etc.\n",
    "\n",
    "For each action in T, a matrix will give the probability of transitioning from one state to another.  The row\n",
    "indicates the starting state, the column gives the ending state.  Thus a change from state of 0 (representing 0 earnings)\n",
    "to a state of 4 (representing $4 in earnings) is given by row 0, column 4 in the T[action][0][3][4].  Where the first\n",
    "index is the index of the action, the second index is the initial state, and the third index is the resultant state.\n",
    "\n",
    "The reward matrix is similar to the transition probability matrix but instead of each matrix indicating the probability\n",
    "from one state to the next, it gives the reward for that transition.\n",
    "\n",
    "The following gives the initialization of the parameters for this simulation.\n",
    "\n",
    "#### Action[0]: Do not Roll the Dice\n",
    "\n",
    "There 100% chance that you do not have to roll the dice if you are in a given state and you will not transition to\n",
    "another state but will remain in the same one."
   ]
  },
  {
   "cell_type": "code",
   "execution_count": null,
   "metadata": {
    "pycharm": {
     "name": "#%%\n"
    }
   },
   "outputs": [],
   "source": [
    "# the probability matrix for the first action, if you do not roll\n",
    "prob[0] = [[1, 0, 0, 0, 0, 0, 0, 0, 0, 0],\n",
    "           [0, 1, 0, 0, 0, 0, 0, 0, 0, 0],\n",
    "           [0, 0, 1, 0, 0, 0, 0, 0, 0, 0],\n",
    "           [0, 0, 0, 1, 0, 0, 0, 0, 0, 0],\n",
    "           [0, 0, 0, 0, 1, 0, 0, 0, 0, 0],\n",
    "           [0, 0, 0, 0, 0, 1, 0, 0, 0, 0],\n",
    "           [0, 0, 0, 0, 0, 0, 1, 0, 0, 0],\n",
    "           [0, 0, 0, 0, 0, 0, 0, 1, 0, 0],\n",
    "           [0, 0, 0, 0, 0, 0, 0, 0, 1, 0],\n",
    "           [0, 0, 0, 0, 0, 0, 0, 0, 0, 1]]"
   ]
  },
  {
   "cell_type": "markdown",
   "metadata": {},
   "source": [
    "#### Action[1]: Roll the Dice\n",
    "\n",
    "Rolling the dice is a little more complex.  First the probability of transitioning to another state (including remaining)\n",
    "in the same state is given by: 1/(# sides of the dice).\n",
    "\n",
    "The first row of the prob[1] matrix gives all of possible transitions from the first state.\n",
    "Thus, there is a p chance of rolling a 4, 5, 6, and a 1/2 chance of transitioning to the final state which is losing,\n",
    "all of the money earned thus far (which is 0 at state 0).\n",
    "\n",
    "\n",
    "The second row gives all of the possible transitions from the second state.  We can see that the the same ratio exists\n",
    "from transitioning, but is shifted down by the minimum valid roll."
   ]
  },
  {
   "cell_type": "code",
   "execution_count": null,
   "metadata": {
    "pycharm": {
     "name": "#%%\n"
    }
   },
   "outputs": [],
   "source": [
    "#if roll\n",
    "p=1.0/N\n",
    "# after the first roll, you have a 1/6 chance of transistioning \n",
    "prob[1] = [[0, p, p, p, 0, 0, 0, 0, 0, 0.5],\n",
    "           [0, 0, 0, 0, p, p, p, 0, 0, 0.5],\n",
    "           [0, 0, 0, 0, 0, p, p, p, 0, 0.5],\n",
    "           [0, 0, 0, 0, 0, 0, p, p, p, 0.5],\n",
    "           [0, 0, 0, 0, 0, 0, 0, 0, 0, 1],\n",
    "           [0, 0, 0, 0, 0, 0, 0, 0, 0, 1],\n",
    "           [0, 0, 0, 0, 0, 0, 0, 0, 0, 1],\n",
    "           [0, 0, 0, 0, 0, 0, 0, 0, 0, 1],\n",
    "           [0, 0, 0, 0, 0, 0, 0, 0, 0, 1],\n",
    "           [0, 0, 0, 0, 0, 0, 0, 0, 0, 1]]\n",
    "np.sum(prob[0],axis=1)\n",
    "np.sum(prob[1],axis=1)\n",
    "\n",
    "rewards = np.zeros((2, 10, 10))\n",
    "# if leave\n",
    "rewards[0] = [[0, 0, 0, 0, 0, 0, 0, 0, 0, 0],\n",
    "              [0, 0, 0, 0, 0, 0, 0, 0, 0, 0],\n",
    "              [0, 0, 0, 0, 0, 0, 0, 0, 0, 0],\n",
    "              [0, 0, 0, 0, 0, 0, 0, 0, 0, 0],\n",
    "              [0, 0, 0, 0, 0, 0, 0, 0, 0, 0],\n",
    "              [0, 0, 0, 0, 0, 0, 0, 0, 0, 0],\n",
    "              [0, 0, 0, 0, 0, 0, 0, 0, 0, 0],\n",
    "              [0, 0, 0, 0, 0, 0, 0, 0, 0, 0],\n",
    "              [0, 0, 0, 0, 0, 0, 0, 0, 0, 0],\n",
    "              [0, 0, 0, 0, 0, 0, 0, 0, 0, 0]]\n",
    "#if roll\n",
    "rewards[1] = [[0, 4, 5, 6, 0, 0, 0, 0, 0, 0],\n",
    "            [0, 0, 0, 0, 4, 5, 6, 0, 0, -4],\n",
    "            [0, 0, 0, 0, 0, 4, 5, 6, 0, -5],\n",
    "            [0, 0, 0, 0, 0, 0, 4, 5, 6, -6],\n",
    "            [0, 0, 0, 0, 0, 0, 0, 0, 0, -8],\n",
    "            [0, 0, 0, 0, 0, 0, 0, 0, 0, -9],\n",
    "            [0, 0, 0, 0, 0, 0, 0, 0, 0, -10],\n",
    "            [0, 0, 0, 0, 0, 0, 0, 0, 0, -11],\n",
    "            [0, 0, 0, 0, 0, 0, 0, 0, 0, -12],\n",
    "            [0, 0, 0, 0, 0, 0, 0, 0, 0, 0]]\n",
    "\n",
    "vi = mdptoolbox.mdp.ValueIteration(prob, rewards, 1)\n",
    "vi.run()\n",
    "\n",
    "optimal_policy = vi.policy\n",
    "expected_values = vi.V\n",
    "\n",
    "print optimal_policy\n",
    "print expected_values"
   ]
  },
  {
   "cell_type": "code",
   "execution_count": null,
   "metadata": {},
   "outputs": [],
   "source": []
  }
 ],
 "metadata": {
  "kernelspec": {
   "display_name": "Python 2",
   "language": "python",
   "name": "python2"
  },
  "language_info": {
   "codemirror_mode": {
    "name": "ipython",
    "version": 2
   },
   "file_extension": ".py",
   "mimetype": "text/x-python",
   "name": "python",
   "nbconvert_exporter": "python",
   "pygments_lexer": "ipython2",
   "version": "2.7.17"
  },
  "pycharm": {
   "stem_cell": {
    "cell_type": "raw",
    "metadata": {
     "collapsed": false
    },
    "source": []
   }
  }
 },
 "nbformat": 4,
 "nbformat_minor": 1
}
